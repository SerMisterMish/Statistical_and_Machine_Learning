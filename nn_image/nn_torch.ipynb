{
 "cells": [
  {
   "cell_type": "markdown",
   "id": "c83c02f5",
   "metadata": {},
   "source": [
    "# Нейронные сети и PyTorch"
   ]
  },
  {
   "cell_type": "code",
   "execution_count": null,
   "id": "61f2fbb0",
   "metadata": {},
   "outputs": [],
   "source": []
  }
 ],
 "metadata": {
  "language_info": {
   "name": "python"
  }
 },
 "nbformat": 4,
 "nbformat_minor": 5
}
